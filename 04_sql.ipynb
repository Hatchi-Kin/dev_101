{
 "cells": [
  {
   "cell_type": "code",
   "execution_count": 1,
   "metadata": {},
   "outputs": [],
   "source": [
    "###  Bibliothèque  ###\n",
    "\n",
    "# La bibliothèque du quartier possède un catalogue de livres. \n",
    "# Elle permet aux adhérents d'emprunter UN livre à la fois pour une durée de 15 jours.\n",
    "\n",
    "# Vous êtes chargé de développer une application de gestion des emprunts de livres.\n",
    "# Pour cela, vous allez devoir écrire des requêtes SQL pour répondre à différents besoins."
   ]
  },
  {
   "cell_type": "code",
   "execution_count": 2,
   "metadata": {},
   "outputs": [],
   "source": [
    "from src.utils import get_tables_in_db, print_schema_of_table\n",
    "from src.wrappers import *\n",
    "\n",
    "from src.database import create_database\n",
    "create_database()"
   ]
  },
  {
   "cell_type": "code",
   "execution_count": null,
   "metadata": {},
   "outputs": [],
   "source": [
    "# la fonction get_tables_in_db() renvoie une liste contenant les noms des tables de la base de données\n",
    "\n",
    "get_tables_in_db()"
   ]
  },
  {
   "cell_type": "code",
   "execution_count": 4,
   "metadata": {},
   "outputs": [],
   "source": [
    "# authors : contient les informations sur les auteurs\n",
    "# books : contient les informations sur les livres\n",
    "# users : contient les informations sur les membres de la bibliothèque\n",
    "# borrowings : contient les informations sur les emprunts de livres"
   ]
  },
  {
   "cell_type": "code",
   "execution_count": null,
   "metadata": {},
   "outputs": [],
   "source": [
    "# la fonction print_schema_of_table() prend comme paramètre le nom d'une table \n",
    "# et affiche le nom des colonnes et type de données de cette table\n",
    "\n",
    "table_name = get_tables_in_db()[0]\n",
    "print_schema_of_table(table_name)"
   ]
  },
  {
   "cell_type": "code",
   "execution_count": null,
   "metadata": {},
   "outputs": [],
   "source": [
    "# La table 'books' contient 3 colonnes : id, title, author_id\n",
    "# Notre programme de gestion des emprunts de livres doit permettre \n",
    "# de consulter la liste des livres que possède la bibliothèque.\n",
    "\n",
    "# Il faut ecrire une requête SQL qui selectionne tout le contenu de la table 'books'\n",
    "\n",
    "# La fonction get_all_books() prend comme paramètre une requête SQL\n",
    "#  - si la requête répond à l'intitulé, la fonction executera la requete et retournera le resultat\n",
    "#  - si la requête est incorrecte, elle affichera un message d'erreur\n",
    "\n",
    "requete = \"\"\n",
    "\n",
    "get_all_books(requete)"
   ]
  },
  {
   "cell_type": "code",
   "execution_count": null,
   "metadata": {},
   "outputs": [],
   "source": [
    "# La bibliothèque aimerait savoir combien d'auteurs différents sont dans sa base de données.\n",
    "# On veut récupérer le contenu de la table 'authors'\n",
    "\n",
    "requete = \"\"\n",
    "\n",
    "get_all_authors(requete)"
   ]
  },
  {
   "cell_type": "code",
   "execution_count": null,
   "metadata": {},
   "outputs": [],
   "source": [
    "# get_all_authors() nous retourné les auteurs dans l'ordre croissant par id\n",
    "# Généralement les id les plus petits sont les premiers auteurs ajoutés à la base de données\n",
    "# On voudrait donc obtenir la liste des auteurs dans l'ordre décroissant de leur id \n",
    "# pour savoir qui sont les derniers auteurs ajoutés à la base de données\n",
    "\n",
    "requete = \"\"\n",
    "\n",
    "get_all_authors_in_descending_order(requete)"
   ]
  },
  {
   "cell_type": "code",
   "execution_count": null,
   "metadata": {},
   "outputs": [],
   "source": [
    "# On sait maintenant retourner nos résultat par ordre d'id décroissant, \n",
    "# Mais Une bibliothèque est généralement classée par ordre alphabétique !\n",
    "# On veut maintenant les afficher par ordre alphabétique décroissant !\n",
    "\n",
    "requete = \"\"\n",
    "\n",
    "get_all_authors_by_alphabetical_descending_order(requete)"
   ]
  },
  {
   "cell_type": "code",
   "execution_count": null,
   "metadata": {},
   "outputs": [],
   "source": [
    "# n'oubliez pas de commit régulièrement pour ne pas perdre votre travail !"
   ]
  },
  {
   "cell_type": "code",
   "execution_count": null,
   "metadata": {},
   "outputs": [],
   "source": [
    "# Et si on voulait trier les livres par ordre alphabétique \n",
    "# mais en limitant les résultats pour n'en récupérer que 4 ?\n",
    "\n",
    "requete = \"\"\n",
    "\n",
    "get_only_the_first_4_books_alphabetically(requete)"
   ]
  },
  {
   "cell_type": "code",
   "execution_count": null,
   "metadata": {},
   "outputs": [],
   "source": [
    "# Récupérer la liste des livres dont les id sont strictement inférieurs à 5\n",
    "\n",
    "requete = \"\"\n",
    "\n",
    "get_books_with_id_inferior_to_5(requete)"
   ]
  },
  {
   "cell_type": "code",
   "execution_count": null,
   "metadata": {},
   "outputs": [],
   "source": [
    "# Récupérer la liste de livres dont les id existent dans la liste [3, 4, 5 et 6]\n",
    "\n",
    "requete = \"\"\n",
    "\n",
    "get_books_with_ids_3_4_5_and_6(requete)"
   ]
  },
  {
   "cell_type": "code",
   "execution_count": null,
   "metadata": {},
   "outputs": [],
   "source": [
    "# Il faut maintenant récupérer\n",
    "\n",
    "# UNIQUEMENT le titre des livres et l'id de leur auteur \n",
    "# pour ça, on peut spécifier les colonnes que l'on veut récupérer et ne pas spécifier les colonnes que l'on ne veut pas récupérer\n",
    "# dans l'ordre alphabétique inverse des titres\n",
    "# et SEULEMENT les titres qui contiennent la séquence de caractères 'le'  (en utilisant '%le%' )\n",
    "# (dans tous ses contextes, comme 'Les', 'mille', etc.)\n",
    "\n",
    "requete = \"\"\n",
    "\n",
    "get_only_books_and_authors_id_with_le_in_name_of_book(requete)"
   ]
  },
  {
   "cell_type": "code",
   "execution_count": null,
   "metadata": {},
   "outputs": [],
   "source": [
    "### Niveau 2 ! ###\n",
    "# Les  jointures #\n",
    "\n",
    "# la table 'books' contient une colonne 'author' qui est une clé étrangère vers la table 'authors'\n",
    "# pour afficher le nom de l'auteur de chaque livre, il faut faire une jointure entre les deux tables\n",
    "# écrire une requête SQL pour afficher la liste de tous les livres disponibles AVEC le nom de leur auteur.\n",
    "\n",
    "# Selectionner le titre des livres et le nom des auteurs dans la table 'books'\n",
    "# et joindre la table 'authors' avec la table 'books' sur l'équivalence des colonnes 'author_id' et 'id'\n",
    "\n",
    "# SELECTIONNER titre_des_livre, nom_des_auteurs DEPUIS la table 'books' et la JOINDRE  à la table 'authors' SUR 'author_id' égal à 'id'\n",
    "\n",
    "requete = \"\"\n",
    "\n",
    "get_books_with_authors_using_join(requete)"
   ]
  },
  {
   "cell_type": "code",
   "execution_count": null,
   "metadata": {},
   "outputs": [],
   "source": [
    "# J'ai envie de me plonger dans un auteur, n'importe lequel, Pourvu qu'il y ait suffisament d'ouvrage disponible en base !\n",
    "\n",
    "# Selectionner le nom des auteurs depuis la table 'authors'\n",
    "# et joindre la table 'books' avec la table 'authors' sur l'équivalence des colonnes 'author_id' et 'id'\n",
    "# qu'il faut regrouper par le nom de l'auteur \n",
    "# qui ont un compte d'id de livre supérieur à 3\n",
    "\n",
    "query = \"\"\n",
    "\n",
    "get_authors_that_have_more_than_3_books_available(query)"
   ]
  },
  {
   "cell_type": "code",
   "execution_count": null,
   "metadata": {},
   "outputs": [],
   "source": [
    "# Jusqu'a présent, nous avons travaillé sur des requêtes de lecture, READ dans le CRUD\n",
    "# Nous allons maintenant nous intéresser à la création d'entrées, CREATE dans le CRUD\n",
    "\n",
    "# - Ajouter l'auteur 'J.K. Rowling' dans la table authors\n",
    "# - Puis ajouter le livre 'Harry Potter and the Philosopher\\'s Stone' dans la table books\n",
    "# - Le livre doit être lié à l'auteur J.K. Rowling via son author_id\n",
    "# - L'ordre est important: il faut d'abord créer l'auteur puis le livre\n",
    "\n",
    "requete_author = \"\"\n",
    "\n",
    "create_new_author(requete_author)"
   ]
  },
  {
   "cell_type": "code",
   "execution_count": null,
   "metadata": {},
   "outputs": [],
   "source": [
    "requete_book = \"\"\n",
    "\n",
    "create_new_book(requete_book)"
   ]
  },
  {
   "cell_type": "code",
   "execution_count": null,
   "metadata": {},
   "outputs": [],
   "source": [
    "# Vérifier que le livre a bien été ajouté\n",
    "\n",
    "# On pourrait query la table books avec le titre directement, mais imaginons qu'on ne connaisse que l'auteur.\n",
    "# créer une requête pour récupérer le livre de J.K. Rowling en utilisant une jointure\n",
    "\n",
    "requete = \"\"\n",
    "\n",
    "get_book_by_rowling(requete)"
   ]
  },
  {
   "cell_type": "code",
   "execution_count": null,
   "metadata": {},
   "outputs": [],
   "source": [
    "# Passons maintenant à la modification d'entrée, UPDATE dans le CRUD\n",
    "\n",
    "# - Mettre à jour le titre du livre 'Harry Potter and the Philosopher\\'s Stone' en 'Harry Potter 1'\n",
    "# - Utiliser une condition WHERE pour être sûr de modifier le bon livre\n",
    "# - On peut utiliser soit le titre original, soit l'auteur dans la condition\n",
    "\n",
    "requete = \"\"\n",
    "\n",
    "update_book_title(requete)"
   ]
  },
  {
   "cell_type": "code",
   "execution_count": null,
   "metadata": {},
   "outputs": [],
   "source": [
    "## réutiliser la fonction get_book_by_rowling() pour vérifier que le titre a bien été modifié"
   ]
  },
  {
   "cell_type": "code",
   "execution_count": null,
   "metadata": {},
   "outputs": [],
   "source": [
    "# Pas de chance pour J.K. Rowling pusiqu'il est temps de découvrir la suppression d'entrée, DELETE dans le CRUD\n",
    "\n",
    "# - Attention à l'ordre: il faut d'abord supprimer le livre (contrainte de clé étrangère)\n",
    "# - Puis supprimer l'auteur\n",
    "\n",
    "requete_delete_book = \"\"\n",
    "\n",
    "delete_rowling_book(requete_delete_book)"
   ]
  },
  {
   "cell_type": "code",
   "execution_count": null,
   "metadata": {},
   "outputs": [],
   "source": [
    "requete_delete_author = \"\"\n",
    "\n",
    "delete_rowling_author(requete_delete_author)"
   ]
  },
  {
   "cell_type": "code",
   "execution_count": null,
   "metadata": {},
   "outputs": [],
   "source": [
    "from src.db_connector import SQLiteConnector"
   ]
  },
  {
   "cell_type": "code",
   "execution_count": null,
   "metadata": {},
   "outputs": [],
   "source": [
    "## Quelues exemples..."
   ]
  },
  {
   "cell_type": "code",
   "execution_count": null,
   "metadata": {},
   "outputs": [],
   "source": [
    "# Lister tous les emprunts en cours (livres non retournés) avec les noms des utilisateurs et des livres :\n",
    "\n",
    "def get_current_borrowings():\n",
    "    query = '''\n",
    "    SELECT users.name, books.title, borrowings.borrow_date\n",
    "    FROM borrowings\n",
    "    JOIN users ON borrowings.user_id = users.id\n",
    "    JOIN books ON borrowings.book_id = books.id\n",
    "    WHERE borrowings.return_date IS NULL\n",
    "    '''\n",
    "    with SQLiteConnector() as connector:\n",
    "        return connector.execute_query(query)\n",
    "\n",
    "\n",
    "current_borrowings = get_current_borrowings()\n",
    "for user, book, borrow_date in current_borrowings:\n",
    "    print(f\"User: {user}, Book: {book}, Borrow Date: {borrow_date}\")"
   ]
  },
  {
   "cell_type": "code",
   "execution_count": null,
   "metadata": {},
   "outputs": [],
   "source": [
    "# savoir si un utilisateur a emprunté un livre il y a plus de 15 jours, \n",
    "def get_users_with_old_borrowings():\n",
    "    query = '''\n",
    "    SELECT users.name, books.title, borrowings.borrow_date\n",
    "    FROM borrowings\n",
    "    JOIN users ON borrowings.user_id = users.id\n",
    "    JOIN books ON borrowings.book_id = books.id\n",
    "    WHERE borrowings.borrow_date < DATE('now', '-15 days') AND borrowings.return_date IS NULL\n",
    "    '''\n",
    "    with SQLiteConnector() as connector:\n",
    "        return connector.execute_query(query)\n",
    "\n",
    "\n",
    "# Exemple d'utilisation\n",
    "old_borrowings = get_users_with_old_borrowings()\n",
    "for user, book, borrow_date in old_borrowings:\n",
    "    print(f\"User: {user}, Book: {book}, Borrow Date: {borrow_date}\")"
   ]
  },
  {
   "cell_type": "code",
   "execution_count": null,
   "metadata": {},
   "outputs": [],
   "source": [
    "# Lister tous les utilisateurs qui ont emprunté un livre spécifique :\n",
    "def get_users_who_borrowed_book(book_id):\n",
    "    query = '''\n",
    "    SELECT users.name, borrowings.borrow_date, borrowings.return_date\n",
    "    FROM borrowings\n",
    "    JOIN users ON borrowings.user_id = users.id\n",
    "    WHERE borrowings.book_id = ?\n",
    "    '''\n",
    "    with SQLiteConnector() as connector:\n",
    "        return connector.execute_query(query, (book_id,))\n",
    "    return \n",
    "\n",
    "\n",
    "# Exemple d'utilisation\n",
    "book_id = 1  # ID du livre pour lequel vous voulez obtenir la liste des utilisateurs\n",
    "\n",
    "users_who_borrowed = get_users_who_borrowed_book(book_id)\n",
    "for user, borrow_date, return_date in users_who_borrowed:\n",
    "    print(f\"User: {user}, Borrow Date: {borrow_date}, Return Date: {return_date}\")"
   ]
  },
  {
   "cell_type": "code",
   "execution_count": null,
   "metadata": {},
   "outputs": [],
   "source": [
    "# Lister l'historique des emprunts pour un utilisateur spécifique :\n",
    "def get_user_borrowing_history(user_id):\n",
    "\n",
    "    query = '''\n",
    "    SELECT books.title, borrowings.borrow_date, borrowings.return_date\n",
    "    FROM borrowings\n",
    "    JOIN books ON borrowings.book_id = books.id\n",
    "    WHERE borrowings.user_id = ?\n",
    "    '''\n",
    "    with SQLiteConnector() as connector:\n",
    "        return connector.execute_query(query, (user_id,))\n",
    "\n",
    "\n",
    "user_id = 1  # ID de l'utilisateur pour lequel vous voulez obtenir l'historique\n",
    "\n",
    "borrowing_history = get_user_borrowing_history(user_id)\n",
    "for book, borrow_date, return_date in borrowing_history:\n",
    "    print(f\"Book: {book}, Borrow Date: {borrow_date}, Return Date: {return_date}\")"
   ]
  }
 ],
 "metadata": {
  "kernelspec": {
   "display_name": ".venv",
   "language": "python",
   "name": "python3"
  },
  "language_info": {
   "codemirror_mode": {
    "name": "ipython",
    "version": 3
   },
   "file_extension": ".py",
   "mimetype": "text/x-python",
   "name": "python",
   "nbconvert_exporter": "python",
   "pygments_lexer": "ipython3",
   "version": "3.12.3"
  }
 },
 "nbformat": 4,
 "nbformat_minor": 2
}
