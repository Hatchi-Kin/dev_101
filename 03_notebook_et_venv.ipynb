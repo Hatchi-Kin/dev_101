{
 "cells": [
  {
   "cell_type": "code",
   "execution_count": null,
   "metadata": {},
   "outputs": [],
   "source": [
    "# Jusqu'a présent, on a utilisé des fonctions et modules déjà présents dans Python.\n",
    "# Et on les a utilisé dans des scripts.\n",
    "\n",
    "# On veut maintenant découvrir les notebooks qui s'executent toujours ligne par ligne mais pas sur toute la longueur du script, \n",
    "# mais plutôt, cellule par cellule.\n",
    "# pour utiliser un notebook dans vscode, il faut installer la bibliothèque ipykernel et lier le notebook à un kernel python.\n",
    "\n",
    "# La bonne pratique, quand on veut installer des librairies / dépendances, dans notre projet, c'est de créer un environnement virtuel.\n",
    "# Cela permet de ne pas polluer l'environnement global de Python et de mieux gerer les dépendances de notre projet en les isolant."
   ]
  },
  {
   "cell_type": "code",
   "execution_count": null,
   "metadata": {},
   "outputs": [],
   "source": [
    "# Pour créer un environnement virtuel, on utilise le module venv de Python.\n",
    "# On se place dans le répertoire de notre projet, et on tape la commande suivante:\n",
    "\n",
    "# python3 -m venv .venv"
   ]
  },
  {
   "cell_type": "code",
   "execution_count": null,
   "metadata": {},
   "outputs": [],
   "source": [
    "# Cette commande va créer un répertoire .venv dans le répertoire courant, qui contiendra l'environnement virtuel.\n",
    "# Ce répertoire contiendra une copie de l'interpréteur Python, et un répertoire lib qui contiendra les librairies installées dans cet environnement.\n",
    "\n",
    "# On ne veut pas versionner notre environnement virtuel entier !\n",
    "# On va donc ajouter le répertoire .venv/ dans le fichier .gitignore pour qu'il ne soit pas versionné.\n",
    "# à la place, on va créer un fichier requirements.txt qui contiendra la liste des dépendances\n",
    "\n",
    "# créer un fichier requirements.txt et y ajouter les dépendances de notre projet. Simplement en listant les librairies et leurs versions.\n",
    "# pour nous c'est:\n",
    "# ipykernel"
   ]
  },
  {
   "cell_type": "code",
   "execution_count": null,
   "metadata": {},
   "outputs": [],
   "source": [
    "# maintenant, on peut activer l'environnement virtuel:\n",
    "\n",
    "# source .venv/bin/activate\n",
    "\n",
    "# et on vérifie que l'interpréteur Python utilisé est bien celui de l'environnement virtuel:\n",
    "# which python"
   ]
  },
  {
   "cell_type": "code",
   "execution_count": null,
   "metadata": {},
   "outputs": [],
   "source": [
    "# On peut ensuite installer les dépendances de notre projet:\n",
    "\n",
    "# pip install -r requirements.txt"
   ]
  },
  {
   "cell_type": "code",
   "execution_count": null,
   "metadata": {},
   "outputs": [],
   "source": [
    "# Fouillez le code et importer la fonction get_tables_in_db et print_schema_of_table\n",
    "\n"
   ]
  },
  {
   "cell_type": "code",
   "execution_count": null,
   "metadata": {},
   "outputs": [],
   "source": [
    "# Utilisez la fonction get_tables_in_db pour récupérer la liste des tables de la base de données\n",
    "\n"
   ]
  },
  {
   "cell_type": "code",
   "execution_count": null,
   "metadata": {},
   "outputs": [],
   "source": [
    "# 4. utiliser la fonction print_schema_of_table pour afficher le schéma de chaque table de la base de données\n",
    "# et ré-exécuter la cellule pour afficher le schéma de chaque table"
   ]
  },
  {
   "cell_type": "code",
   "execution_count": null,
   "metadata": {},
   "outputs": [],
   "source": [
    "# Assurez vous que votre .gitignore contient bien \n",
    "# .venv/\n",
    "# **/__pycache__/\n",
    "# **/*.db\n",
    "\n",
    "# Et pushez votre code sur votre repo distant\n",
    "# puis checkout sur la branche 04_sql pour la suite du projet."
   ]
  }
 ],
 "metadata": {
  "kernelspec": {
   "display_name": ".venv",
   "language": "python",
   "name": "python3"
  },
  "language_info": {
   "codemirror_mode": {
    "name": "ipython",
    "version": 3
   },
   "file_extension": ".py",
   "mimetype": "text/x-python",
   "name": "python",
   "nbconvert_exporter": "python",
   "pygments_lexer": "ipython3",
   "version": "3.12.3"
  }
 },
 "nbformat": 4,
 "nbformat_minor": 2
}
